{
 "cells": [
  {
   "cell_type": "code",
   "execution_count": 1,
   "id": "6c2f75a9",
   "metadata": {},
   "outputs": [
    {
     "name": "stdout",
     "output_type": "stream",
     "text": [
      "Hey!This is Vaibhav.\n"
     ]
    }
   ],
   "source": [
    "# print a statement \n",
    "print(\"Hey!This is Vaibhav.\")"
   ]
  },
  {
   "cell_type": "code",
   "execution_count": 9,
   "id": "c27029ce",
   "metadata": {},
   "outputs": [
    {
     "name": "stdout",
     "output_type": "stream",
     "text": [
      "5\n",
      "Ganesh\n",
      "1\n",
      "1.0\n",
      "1\n",
      "cricket\n",
      "tennis\n",
      "football\n",
      "555\n",
      "555\n",
      "555\n",
      "k\n",
      "p\n",
      "j\n"
     ]
    }
   ],
   "source": [
    "#python variables-container for storing data values\n",
    "#no need of declaration, type. decides after declaration\n",
    "x=5\n",
    "print(x)\n",
    "\n",
    "y= \"Ganesh\"\n",
    "print(y)\n",
    "\n",
    "a=int(1)\n",
    "b=float(1)\n",
    "c=int(1)\n",
    "\n",
    "print(a)\n",
    "print(b)\n",
    "print(c)\n",
    "\n",
    "#illegal variables\n",
    "#2myvar=5 should not start with number\n",
    "#my var=9 should be single word\n",
    "#my-var=10 should not be - within text\n",
    "\n",
    "# assign multiple variables\n",
    "w,e,r= \"cricket\", \"tennis\", \"football\"\n",
    "print(w)\n",
    "print(e)\n",
    "print(r)\n",
    "\n",
    "# single value to multiple variables\n",
    "t=y=u=555\n",
    "print(t)\n",
    "print(y)\n",
    "print(u)\n",
    "\n",
    "# unpacking list\n",
    "list1=[\"k\",\"j\",\"p\"]\n",
    "c,v,b=list1\n",
    "print(c)\n",
    "print(b)\n",
    "print(v)\n"
   ]
  },
  {
   "cell_type": "code",
   "execution_count": 12,
   "id": "06be75b6",
   "metadata": {},
   "outputs": [
    {
     "name": "stdout",
     "output_type": "stream",
     "text": [
      "Datatypes in Python\n",
      "<class 'str'>\n",
      "<class 'int'>\n",
      "<class 'float'>\n",
      "<class 'complex'>\n",
      "<class 'list'>\n",
      "<class 'tuple'>\n",
      "<class 'set'>\n",
      "<class 'dict'>\n",
      "<class 'frozenset'>\n",
      "<class 'bool'>\n",
      "<class 'bytes'>\n",
      "<class 'bytearray'>\n",
      "<class 'memoryview'>\n",
      "<class 'float'>\n"
     ]
    }
   ],
   "source": [
    "print(\"Datatypes in Python\")\n",
    "a= \"a\"\n",
    "b=10\n",
    "c=20.3\n",
    "d=4+3j\n",
    "e=['a','b','c','d']\n",
    "f=('j','k','l','m','n')\n",
    "g={1,3,96,9,8,}\n",
    "h=dict(name=\"Vaibhav\",Age= \"28\")\n",
    "i=frozenset(('a','b','c','d'))\n",
    "k=bool(5)\n",
    "l=bytes(1)\n",
    "m=bytearray(50)\n",
    "o=memoryview(bytes(10))\n",
    "p=35e3\n",
    "print(type(a))\n",
    "print(type(b))\n",
    "print(type(c))\n",
    "print(type(d))\n",
    "print(type(e))\n",
    "print(type(f))\n",
    "print(type(g))\n",
    "print(type(h))\n",
    "print(type(i))\n",
    "print(type(k))\n",
    "print(type(l))\n",
    "print(type(m))\n",
    "print(type(o))\n",
    "print(type(p))\n",
    "\n"
   ]
  },
  {
   "cell_type": "code",
   "execution_count": 13,
   "id": "78ede423",
   "metadata": {},
   "outputs": [
    {
     "name": "stdout",
     "output_type": "stream",
     "text": [
      "Data_casting\n",
      "100\n",
      "100.0\n",
      "(100+0j)\n",
      "b'\\x00\\x00\\x00\\x00\\x00\\x00\\x00\\x00\\x00\\x00\\x00\\x00\\x00\\x00\\x00\\x00\\x00\\x00\\x00\\x00\\x00\\x00\\x00\\x00\\x00\\x00\\x00\\x00\\x00\\x00\\x00\\x00\\x00\\x00\\x00\\x00\\x00\\x00\\x00\\x00\\x00\\x00\\x00\\x00\\x00\\x00\\x00\\x00\\x00\\x00\\x00\\x00\\x00\\x00\\x00\\x00\\x00\\x00\\x00\\x00\\x00\\x00\\x00\\x00\\x00\\x00\\x00\\x00\\x00\\x00\\x00\\x00\\x00\\x00\\x00\\x00\\x00\\x00\\x00\\x00\\x00\\x00\\x00\\x00\\x00\\x00\\x00\\x00\\x00\\x00\\x00\\x00\\x00\\x00\\x00\\x00\\x00\\x00\\x00\\x00'\n",
      "bytearray(b'\\x00\\x00\\x00\\x00\\x00\\x00\\x00\\x00\\x00\\x00\\x00\\x00\\x00\\x00\\x00\\x00\\x00\\x00\\x00\\x00\\x00\\x00\\x00\\x00\\x00\\x00\\x00\\x00\\x00\\x00\\x00\\x00\\x00\\x00\\x00\\x00\\x00\\x00\\x00\\x00\\x00\\x00\\x00\\x00\\x00\\x00\\x00\\x00\\x00\\x00\\x00\\x00\\x00\\x00\\x00\\x00\\x00\\x00\\x00\\x00\\x00\\x00\\x00\\x00\\x00\\x00\\x00\\x00\\x00\\x00\\x00\\x00\\x00\\x00\\x00\\x00\\x00\\x00\\x00\\x00\\x00\\x00\\x00\\x00\\x00\\x00\\x00\\x00\\x00\\x00\\x00\\x00\\x00\\x00\\x00\\x00\\x00\\x00\\x00\\x00')\n",
      "True\n",
      "<class 'str'>\n",
      "<class 'float'>\n",
      "<class 'complex'>\n",
      "<class 'bytes'>\n",
      "<class 'bytearray'>\n",
      "<class 'bool'>\n",
      "[10, 20, 30, 40, 50]\n",
      "<class 'list'>\n",
      "(10, 20, 30, 40, 50)\n",
      "<class 'tuple'>\n"
     ]
    }
   ],
   "source": [
    "print(\"Data_casting\")\n",
    "\n",
    "\n",
    "var=100\n",
    "L=[10,20,30,40,50]\n",
    "var1=str(var)\n",
    "var2=float(var)\n",
    "var3=complex(var)\n",
    "var4=bytes(var)\n",
    "var5=bytearray(var)\n",
    "var6=bool(var)\n",
    "print(var1)\n",
    "print(var2)\n",
    "print(var3)\n",
    "print(var4)\n",
    "print(var5)\n",
    "print(var6)\n",
    "print(type(var1))\n",
    "print(type(var2))\n",
    "print(type(var3))\n",
    "print(type(var4))\n",
    "print(type(var5))\n",
    "print(type(var6))\n",
    "print(L)\n",
    "print(type(L))\n",
    "T=tuple(L)\n",
    "print(T)\n",
    "print(type(T))\n"
   ]
  },
  {
   "cell_type": "code",
   "execution_count": 23,
   "id": "ed169a89",
   "metadata": {},
   "outputs": [
    {
     "name": "stdout",
     "output_type": "stream",
     "text": [
      "p\n",
      "y\n",
      "t\n",
      "h\n",
      "o\n",
      "n\n",
      "11\n",
      "True\n",
      "False\n",
      "True\n"
     ]
    }
   ],
   "source": [
    "#string\n",
    "\n",
    "#printing letters from string\n",
    "for x in \"python\":\n",
    "    print(x)\n",
    "\n",
    "#length of string\n",
    "m=\"mathematics\"\n",
    "print(len(m))\n",
    "\n",
    "#Check true or false using in and not in\n",
    "\n",
    "print(\"t\" in m)\n",
    "print(\"j\" in m)\n",
    "print(\"j\"not in m)"
   ]
  },
  {
   "cell_type": "code",
   "execution_count": 24,
   "id": "ffbb0519",
   "metadata": {
    "scrolled": true
   },
   "outputs": [
    {
     "name": "stdout",
     "output_type": "stream",
     "text": [
      "<class 'str'>\n",
      "d\n",
      "a\n",
      "t\n",
      "e\n",
      "s\n",
      "databasse\n",
      "datab\n",
      "databass\n",
      "databasse\n"
     ]
    }
   ],
   "source": [
    "#string slicing\n",
    "str2= \"databasse\"\n",
    "print(type(str2))\n",
    "print(str2[0]) #first character\n",
    "print(str2[1])#Second letter\n",
    "print(str2[2])#third letter\n",
    "print(str2[-1])#last letter\n",
    "print(str2[-2])#second last\n",
    "print(str2[0:])#slicing using first letter\n",
    "print(str2[0:5])#slicing first 5 leetes\n",
    "print(str2[:-1])#slicing using last letter\n",
    "print(str2[:])#whole letters"
   ]
  },
  {
   "cell_type": "code",
   "execution_count": 19,
   "id": "1d0c8557",
   "metadata": {},
   "outputs": [
    {
     "name": "stdout",
     "output_type": "stream",
     "text": [
      "ABRAHAM LINCON\n",
      "abraham lincon\n",
      "Abraham Lincon\n",
      "['Abraham Lincon']\n",
      "Kbraham Lincon\n"
     ]
    }
   ],
   "source": [
    "# modify string\n",
    "\n",
    "# Uppercase\n",
    "a= \"Abraham Lincon\"\n",
    "print(a.upper())\n",
    "\n",
    "#lowercase\n",
    "print(a.lower())\n",
    "\n",
    "#Strip remove white strip\n",
    "print(a.strip())\n",
    "\n",
    "#Split\n",
    "print(a.split(','))\n",
    "\n",
    "#replace\n",
    "print(a.replace(\"A\",\"K\"))"
   ]
  },
  {
   "cell_type": "code",
   "execution_count": 35,
   "id": "e7855576",
   "metadata": {},
   "outputs": [
    {
     "name": "stdout",
     "output_type": "stream",
     "text": [
      "JohnCena\n",
      "John Cena\n"
     ]
    }
   ],
   "source": [
    "#string concatenation\n",
    "\n",
    "a=\"John\"\n",
    "b=\"Cena\"\n",
    "c=a+b\n",
    "print(c)\n",
    "\n",
    "#adding space\n",
    "print(a+\" \"+b)\n"
   ]
  },
  {
   "cell_type": "code",
   "execution_count": 2,
   "id": "ef339786",
   "metadata": {},
   "outputs": [
    {
     "name": "stdout",
     "output_type": "stream",
     "text": [
      "I need 8 apples, 12 eggs and 3 litres of milkbag in a week.\n"
     ]
    }
   ],
   "source": [
    "#format string\n",
    "apple=8\n",
    "egg=12\n",
    "milk=3\n",
    "Myreq= \"I need {} apples, {} eggs and {} litres of milkbag in a week.\"\n",
    "print(Myreq.format(apple,egg,milk))"
   ]
  },
  {
   "cell_type": "code",
   "execution_count": 18,
   "id": "09d3f902",
   "metadata": {},
   "outputs": [
    {
     "name": "stdout",
     "output_type": "stream",
     "text": [
      "we are so-called \"vikings\" from the north\n",
      "it's alright\n",
      "Hi! \\ World\n",
      "hello\n",
      "world\n",
      "hello\tworld\n",
      "hello\bworld\n",
      "`hƀè\u000690\n",
      "Hello\n"
     ]
    }
   ],
   "source": [
    "# string escape character\n",
    "\n",
    "#\"\" inside the \"\"\n",
    "#txt= \"we are so-called \"vikings\" from the north\"\n",
    "#print(txt)\n",
    "\n",
    "txt1=\"we are so-called \\\"vikings\\\" from the north\"\n",
    "print(txt1)\n",
    "\n",
    "# \\' use\n",
    "sent1= 'it\\'s alright'\n",
    "print(sent1)\n",
    "\n",
    "#\\\\ use\n",
    "sent2= \"Hi! \\\\ World\"\n",
    "print(sent2)\n",
    "\n",
    "#\\n use newline\n",
    "sent3=\"hello\\nworld\"\n",
    "print(sent3)\n",
    "\n",
    "#\\t use tab\n",
    "sent4=\"hello\\tworld\"\n",
    "print(sent4)\n",
    "\n",
    "#\\b use backspace\n",
    "sent5=\"hello\\bworld\"\n",
    "print(sent5)\n",
    "\n",
    "#\\000 octal value\n",
    "sent6=(\"\\140\\150\\600\\350\\690\")\n",
    "print(sent6)\n",
    "\n",
    "#\\hhk hex value \n",
    "sent7=(\"\\x48\\x65\\x6c\\x6c\\x6f\")\n",
    "print(sent7)"
   ]
  },
  {
   "cell_type": "code",
   "execution_count": 10,
   "id": "deaeb979",
   "metadata": {},
   "outputs": [
    {
     "name": "stdout",
     "output_type": "stream",
     "text": [
      "Database\n",
      "database\n",
      "      database      \n",
      "000000database000000\n",
      "2\n",
      "1\n",
      "apple is my favourite fruit.\n"
     ]
    }
   ],
   "source": [
    "#String Methods \n",
    "\n",
    "f=\"database\"\n",
    "\n",
    "#capitalize()- capitalize first letter\n",
    "print(f.capitalize())\n",
    "\n",
    "#casefold()-lower case \n",
    "print(f.casefold())\n",
    "\n",
    "#center()-returns center string\n",
    "\n",
    "print(f.center(20))\n",
    "print(f.center(20,\"0\")) #0 padding\n",
    "\n",
    "#count-string.count(\"value\",start,end)\n",
    "t=\"I like apples,apple is my favourite fruit\"\n",
    "print(t.count(\"apple\"))\n",
    "print(t.count(\"apple\",10,24))\n",
    "\n",
    "#rjus - justify \n",
    "txt=\"apple\"\n",
    "x=txt.rjust(5)\n",
    "print(x,\"is my favourite fruit.\")\n",
    "\n",
    "y=txt.rjus"
   ]
  },
  {
   "cell_type": "code",
   "execution_count": 25,
   "id": "9a45088c",
   "metadata": {
    "scrolled": true
   },
   "outputs": [
    {
     "name": "stdout",
     "output_type": "stream",
     "text": [
      "True\n",
      "False\n",
      "False\n",
      "True\n",
      "True\n"
     ]
    },
    {
     "data": {
      "text/plain": [
       "False"
      ]
     },
     "execution_count": 25,
     "metadata": {},
     "output_type": "execute_result"
    }
   ],
   "source": [
    "#boolean\n",
    "print(10>9)\n",
    "print(10<9)\n",
    "print(10==9)\n",
    "\n",
    "x=15\n",
    "y=\"roy\"\n",
    "\n",
    "print(bool(x))\n",
    "print(bool(y))\n",
    "bool()\n",
    "bool(\"\")\n",
    "#print(bool(()))\n",
    "#print(bool({}))\n",
    "#print(bool([])\n",
    "#bool(0)\n",
    "#print(bool(None))\n",
    "#bool(False)\n",
    "\n",
    "\n"
   ]
  },
  {
   "cell_type": "code",
   "execution_count": 27,
   "id": "2c2fb729",
   "metadata": {},
   "outputs": [
    {
     "name": "stdout",
     "output_type": "stream",
     "text": [
      "11\n",
      "-1\n",
      "30\n",
      "0.8333333333333334\n",
      "15625\n",
      "0\n",
      "5\n"
     ]
    }
   ],
   "source": [
    "#operators\n",
    "\n",
    "#arithmatic operators\n",
    "x=5\n",
    "y=6\n",
    "\n",
    "print(x+y)#additio\n",
    "print(x-y)#subtraction\n",
    "print(x*y)#multiplication\n",
    "print(x/y)#Division\n",
    "print(x**y)#exponentional\n",
    "print(x//y)#floor division\n",
    "print(x%y)#modulus\n",
    "\n"
   ]
  },
  {
   "cell_type": "code",
   "execution_count": 55,
   "id": "21b51372",
   "metadata": {},
   "outputs": [
    {
     "name": "stdout",
     "output_type": "stream",
     "text": [
      "8\n",
      "5\n",
      "15\n",
      "5.0\n",
      "5.0\n",
      "125.0\n",
      "2.0\n"
     ]
    }
   ],
   "source": [
    "#Assignment operator\n",
    "x=5\n",
    "x += 3\n",
    "print(x)\n",
    "\n",
    "x -=3\n",
    "print(x)\n",
    "\n",
    "x*=3\n",
    "print(x)\n",
    "\n",
    "x/=3\n",
    "print(x)\n",
    "\n",
    "x//=1\n",
    "print(x)\n",
    "\n",
    "x**=3\n",
    "print(x)\n",
    "\n",
    "x%=3\n",
    "print(x)\n",
    "\n",
    "\n",
    "\n",
    "\n",
    "\n",
    "\n"
   ]
  },
  {
   "cell_type": "code",
   "execution_count": 57,
   "id": "38c7ee34",
   "metadata": {},
   "outputs": [
    {
     "name": "stdout",
     "output_type": "stream",
     "text": [
      "False\n",
      "True\n",
      "True\n",
      "True\n",
      "True\n",
      "True\n"
     ]
    }
   ],
   "source": [
    "#comparision operators\n",
    "\n",
    "a=5\n",
    "b=10\n",
    "c=5\n",
    "\n",
    "print(a>b)\n",
    "print(a<b)\n",
    "print(a==c)\n",
    "print(a!=b)\n",
    "print(a>=c)\n",
    "print(a<=b)\n",
    "\n",
    "\n"
   ]
  },
  {
   "cell_type": "code",
   "execution_count": 65,
   "id": "7aa57d14",
   "metadata": {},
   "outputs": [
    {
     "name": "stdout",
     "output_type": "stream",
     "text": [
      "False\n",
      "False\n",
      "True\n",
      "True\n",
      "False\n"
     ]
    }
   ],
   "source": [
    "#logical operators\n",
    "\n",
    "x=50\n",
    "y=100\n",
    "\n",
    "print(x>60 and y>60)\n",
    "print(x<60 and y<60)\n",
    "print(x>60 or y>60)\n",
    "print(x<60 and y>60)\n",
    "print(not(x<60 and y>60)) #not reverse result"
   ]
  },
  {
   "cell_type": "code",
   "execution_count": 68,
   "id": "233e7452",
   "metadata": {},
   "outputs": [
    {
     "name": "stdout",
     "output_type": "stream",
     "text": [
      "True\n",
      "False\n"
     ]
    }
   ],
   "source": [
    "#membership operator\n",
    "x=[\"apple\", \"banana\"]\n",
    "print(\"banana\" in x)\n",
    "print(\"apple\" not in x)"
   ]
  },
  {
   "cell_type": "code",
   "execution_count": 101,
   "id": "196477ee",
   "metadata": {},
   "outputs": [
    {
     "name": "stdout",
     "output_type": "stream",
     "text": [
      "['apple', 'banana', 'cherry', 'apple', 'cherry']\n",
      "5\n",
      "<class 'list'>\n",
      "banana\n",
      "cherry\n",
      "['banana', 'cherry', 'apple']\n",
      "['apple', 'banana', 'cherry', 'apple', 'blueberry']\n",
      "['apple', 'blackcurrant', 'watermelon', 'orange', 'kiwi', 'mango']\n",
      "['apple', 'banana', 'watermelon', 'cherry']\n",
      "['apple', 'banana', 'cherry', 'orange']\n",
      "['apple', 'cherry']\n",
      "['apple', 'cherry']\n",
      "['banana', 'kiwi', 'mango', 'orange', 'pineapple']\n",
      "[23, 50, 65, 82, 100]\n",
      "[100, 82, 65, 50, 23]\n",
      "['Kiwi', 'Orange', 'banana', 'cherry']\n",
      "['banana', 'cherry', 'Kiwi', 'Orange']\n",
      "['banana', 'cherry', 'Kiwi', 'Orange']\n",
      "['apple', 'banana', 'cherry']\n",
      "['a', 'b', 'c', 1, 2, 3]\n",
      "['a', 'b', 'c', 1, 2, 3, 5, 6, 8, 10]\n",
      "['a', 'b', 'c', 1, 2, 3, 5, 6, 8, 10, 5, 9, 2, 6, 8]\n",
      "2\n",
      "[]\n"
     ]
    }
   ],
   "source": [
    "#list\n",
    "thislist = [\"apple\", \"banana\", \"cherry\", \"apple\", \"cherry\"]\n",
    "print(thislist)\n",
    "print(len(thislist)) #length of list\n",
    "print(type(thislist)) #type of list\n",
    "print(thislist[1]) #list access\n",
    "print(thislist[-1]) #list access\n",
    "print(thislist[1:4]) #list access\n",
    "\n",
    "#access list\n",
    "thislist[4]=\"blueberry\"\n",
    "print(thislist)\n",
    "\n",
    "thislist = [\"apple\", \"banana\", \"cherry\", \"orange\", \"kiwi\", \"mango\"]\n",
    "thislist[1:3] = [\"blackcurrant\", \"watermelon\"]\n",
    "print(thislist)\n",
    "\n",
    "#insert item\n",
    "thislist = [\"apple\", \"banana\", \"cherry\"]\n",
    "thislist.insert(2, \"watermelon\")\n",
    "print(thislist)\n",
    "\n",
    "# append list\n",
    "thislist = [\"apple\", \"banana\", \"cherry\"]\n",
    "thislist.append(\"orange\")\n",
    "print(thislist)\n",
    "\n",
    "#remove and pop\n",
    "thislist = [\"apple\", \"banana\", \"cherry\"]\n",
    "thislist.remove(\"banana\")\n",
    "print(thislist)\n",
    "\n",
    "thislist = [\"apple\", \"banana\", \"cherry\"]\n",
    "thislist.pop(1)\n",
    "print(thislist)\n",
    "\n",
    "#sort list\n",
    "thislist = [\"orange\", \"mango\", \"kiwi\", \"pineapple\", \"banana\"]\n",
    "thislist.sort()\n",
    "print(thislist)\n",
    "\n",
    "thislist = [100, 50, 65, 82, 23]\n",
    "thislist.sort()\n",
    "print(thislist)\n",
    "\n",
    "\n",
    "thislist.sort(reverse = True)\n",
    "print(thislist)\n",
    "\n",
    "\n",
    "thislist = [\"banana\", \"Orange\", \"Kiwi\", \"cherry\"] # case sensetive unexpected results\n",
    "thislist.sort()\n",
    "print(thislist)\n",
    "\n",
    "\n",
    "thislist.sort(key=str.lower)\n",
    "print(thislist)\n",
    "print(thislist)\n",
    "\n",
    "#copy list\n",
    "\n",
    "thislist = [\"apple\", \"banana\", \"cherry\"]\n",
    "mylist = thislist.copy()\n",
    "print(mylist)\n",
    "\n",
    "\n",
    "#join list\n",
    "\n",
    "list1 = [\"a\", \"b\", \"c\"]\n",
    "list2 = [1, 2, 3]\n",
    "\n",
    "list3 = list1 + list2\n",
    "print(list3) \n",
    "\n",
    "\n",
    "#append using for loop\n",
    "list4=[5,6,8,10]\n",
    "\n",
    "for x in list4:\n",
    "    list3.append(x)\n",
    "print(list3)\n",
    "\n",
    "# extend list\n",
    "list5=[5,9,2,6,8]\n",
    "list3.extend(list5)\n",
    "print(list3)\n",
    "\n",
    "#count\n",
    "print(list3.count(2))\n",
    "\n",
    "#clear\n",
    "list3.clear()\n",
    "print(list3)"
   ]
  },
  {
   "cell_type": "code",
   "execution_count": 102,
   "id": "7ce4b60b",
   "metadata": {},
   "outputs": [
    {
     "name": "stdout",
     "output_type": "stream",
     "text": [
      "('apple', 'Mango', 'banana', 'cherry', 'orange', 'Melon')\n",
      "6\n",
      "Mango\n",
      "('Mango', 'banana', 'cherry')\n",
      "('apple', 'Mango', 'banana', 'cherry', 'orange', 'Melon', 'kiwi')\n",
      "('apple', 'Mango', 'banana', 'cherry', 'orange', 'Melon', 'kiwi', 'Coconut')\n",
      "('apple', 'banana', 'cherry', 'orange', 'Melon', 'kiwi', 'Coconut')\n"
     ]
    }
   ],
   "source": [
    "#tuple operations\n",
    "\n",
    "thistuple=(\"apple\",\"Mango\",\"banana\",\"cherry\",\"orange\",\"Melon\")\n",
    "print(thistuple)\n",
    "print(len(thistuple))\n",
    "\n",
    "#access tuple\n",
    "print(thistuple[1])\n",
    "print(thistuple[-5:-2])\n",
    "\n",
    "\n",
    "#update tuple add tuple to tuple\n",
    "y=(\"kiwi\",)\n",
    "thistuple +=y\n",
    "print(thistuple)\n",
    "\n",
    "#update tuple using list\n",
    "z=list(thistuple)\n",
    "z.append(\"Coconut\")\n",
    "thistuple=tuple(z)\n",
    "print(thistuple)\n",
    "\n",
    "#remove using list\n",
    "k=list(thistuple)\n",
    "k.remove(\"Mango\")\n",
    "thistuple=tuple(k)\n",
    "print(thistuple)\n"
   ]
  },
  {
   "cell_type": "code",
   "execution_count": 103,
   "id": "8fe2a431",
   "metadata": {},
   "outputs": [
    {
     "name": "stdout",
     "output_type": "stream",
     "text": [
      "apple\n",
      "Mango\n",
      "banana\n",
      "cherry\n",
      "orange\n",
      "Melon\n",
      "ask\n",
      "bok\n",
      "['rop', 'drt']\n",
      "dfg\n",
      "['rdf', 'lcm', 'jkl', 'png']\n",
      "ugd\n"
     ]
    }
   ],
   "source": [
    "#unpack tuple\n",
    "\n",
    "fruits=(\"apple\",\"Mango\",\"banana\",\"cherry\",\"orange\",\"Melon\")\n",
    "(red,yellow,pyellow,pink,porange,green)=fruits\n",
    "print(red)\n",
    "print(yellow)\n",
    "print(pyellow)\n",
    "print(pink)\n",
    "print(porange)\n",
    "print(green)\n",
    "\n",
    "#Using asterisk\n",
    "tup1=(\"ask\",\"bok\",\"rop\",\"drt\")\n",
    "(ag,nh,*mn)=tup1\n",
    "print(ag)\n",
    "print(nh)\n",
    "print(mn)\n",
    "\n",
    "#using *tropic variable\n",
    "tup2=(\"dfg\",\"rdf\",\"lcm\",\"jkl\",\"png\",\"ugd\")\n",
    "(ad,*tropic,mf)=tup2\n",
    "print(ad)\n",
    "print(tropic)\n",
    "print(mf)"
   ]
  },
  {
   "cell_type": "code",
   "execution_count": 104,
   "id": "4e80b98d",
   "metadata": {},
   "outputs": [
    {
     "name": "stdout",
     "output_type": "stream",
     "text": [
      "apple\n",
      "Mango\n",
      "banana\n",
      "cherry\n",
      "orange\n",
      "Melon\n",
      "ask\n",
      "bok\n",
      "rop\n",
      "drt\n",
      "dfg\n",
      "rdf\n",
      "lcm\n",
      "jkl\n",
      "png\n",
      "ugd\n"
     ]
    }
   ],
   "source": [
    "#loops in tuple\n",
    "fruits=(\"apple\",\"Mango\",\"banana\",\"cherry\",\"orange\",\"Melon\")\n",
    "i=0\n",
    "while i<len(fruits):\n",
    "    print(fruits[i])\n",
    "    i = i+1\n",
    "    \n",
    "tup1=(\"ask\",\"bok\",\"rop\",\"drt\")    \n",
    "for x in tup1:\n",
    "    print(x)\n",
    "tup2=(\"dfg\",\"rdf\",\"lcm\",\"jkl\",\"png\",\"ugd\")    \n",
    "for i in range(len(tup2)):\n",
    "    print(tup2[i])"
   ]
  },
  {
   "cell_type": "code",
   "execution_count": 118,
   "id": "b9572957",
   "metadata": {},
   "outputs": [
    {
     "name": "stdout",
     "output_type": "stream",
     "text": [
      "{'cherry', 'apple', 'banana'}\n",
      "<class 'set'>\n",
      "{'cherry', 'apple', 'banana'}\n",
      "cherry\n",
      "apple\n",
      "banana\n",
      "True\n",
      "{'cherry', 'apple', 'banana', 'mango', 'papaya', 'pineapple'}\n",
      "{'orange', 'cherry', 'apple', 'banana'}\n",
      "{'cherry', 'apple'}\n",
      "{'apple'}\n",
      "set()\n",
      "cherry\n",
      "apple\n",
      "mango\n",
      "papaya\n",
      "pineapple\n",
      "banana\n"
     ]
    }
   ],
   "source": [
    "#sets\n",
    "\n",
    "thisset = {\"apple\", \"banana\", \"cherry\", \"apple\"}\n",
    "\n",
    "print(thisset)\n",
    "\n",
    "myset = {\"apple\", \"banana\", \"cherry\"}\n",
    "print(type(myset))\n",
    "\n",
    "thisset = set((\"apple\", \"banana\", \"cherry\")) # note the double round-brackets\n",
    "print(thisset) \n",
    "\n",
    "\n",
    "#access the items\n",
    "\n",
    "for x in thisset:\n",
    "  print(x) \n",
    "\n",
    "#check True or False\n",
    "thisset = {\"apple\", \"banana\", \"cherry\"}\n",
    "\n",
    "print(\"banana\" in thisset) \n",
    "\n",
    "#add item to set\n",
    "thisset = {\"apple\", \"banana\", \"cherry\"}\n",
    "tropical = {\"pineapple\", \"mango\", \"papaya\"}\n",
    "\n",
    "thisset.update(tropical)\n",
    "\n",
    "print(thisset)\n",
    "\n",
    "# add method\n",
    "thisset = {\"apple\", \"banana\", \"cherry\"}\n",
    "\n",
    "thisset.add(\"orange\")\n",
    "\n",
    "print(thisset) \n",
    "\n",
    "#remove item\n",
    "\n",
    "thisset = {\"apple\", \"banana\", \"cherry\"}\n",
    "\n",
    "thisset.remove(\"banana\")\n",
    "\n",
    "print(thisset) \n",
    "\n",
    "#discard method\n",
    "thisset.discard(\"cherry\")\n",
    "print(thisset)\n",
    "\n",
    "#pop method\n",
    "thisset.pop()\n",
    "print(thisset)\n",
    "\n",
    "\n",
    "#loop in set\n",
    "thisset={'cherry', 'apple', 'banana', 'mango', 'papaya', 'pineapple'}\n",
    "for x in thisset:\n",
    "  print(x) "
   ]
  },
  {
   "cell_type": "code",
   "execution_count": 1,
   "id": "8a758d1d",
   "metadata": {},
   "outputs": [
    {
     "name": "stdout",
     "output_type": "stream",
     "text": [
      "{1: 'a', 2: 'b', 3: 'c'}\n",
      "<class 'dict'>\n"
     ]
    }
   ],
   "source": [
    "d = {\n",
    "    1: 'a',\n",
    "    2: 'b',\n",
    "    3: 'c'   \n",
    "    }\n",
    "print(d)\n",
    "print(type(d))"
   ]
  },
  {
   "cell_type": "code",
   "execution_count": 15,
   "id": "a626a247",
   "metadata": {},
   "outputs": [
    {
     "name": "stdout",
     "output_type": "stream",
     "text": [
      "{'name': 'Vaibhav', 'mobile': 9011061465, 'address': 'Pune', 'job': 'Engineer', 'salary': 40000}\n",
      "<class 'dict'>\n",
      "Vaibhav\n",
      "9011061465\n",
      "Engineer\n",
      "dict_keys(['name', 'mobile', 'address', 'job', 'salary'])\n",
      "dict_values(['Vaibhav', 9011061465, 'Pune', 'Engineer', 40000])\n"
     ]
    }
   ],
   "source": [
    "dict1 = {\n",
    "    'name' : 'Vaibhav',\n",
    "    'mobile' : 9011061465,\n",
    "    'address' : 'Pune',\n",
    "    'job' : 'Engineer',\n",
    "    'salary' : 40000}\n",
    "print(dict1)\n",
    "print(type(dict1))\n",
    "print(dict1['name']) #access name\n",
    "print(dict1['mobile'])\n",
    "print(dict1['job'])\n",
    "print(dict1.keys())\n",
    "print(dict1.values())\n",
    "\n",
    "\n",
    "\n"
   ]
  },
  {
   "cell_type": "code",
   "execution_count": 12,
   "id": "34411fdc",
   "metadata": {},
   "outputs": [
    {
     "name": "stdout",
     "output_type": "stream",
     "text": [
      "{'f_key': {'p_key': {'s_key': {'g_name': 'Grand_son_name'}, 's_name': 'Son_name'}, 'p_name': 'Parent_name'}}\n"
     ]
    },
    {
     "data": {
      "text/plain": [
       "{'f_key': {'p_key': {'s_key': {'g_name': 'Grand_son_name'},\n",
       "   's_name': 'Son_name'},\n",
       "  'p_name': 'Parent_name'}}"
      ]
     },
     "execution_count": 12,
     "metadata": {},
     "output_type": "execute_result"
    }
   ],
   "source": [
    "grandson = {\n",
    "    'g_name':'Grand_son_name'\n",
    "}\n",
    "son = {\n",
    "     's_key' : grandson,\n",
    "    's_name': 'Son_name',\n",
    "}\n",
    "\n",
    "\n",
    "parent = {\n",
    "    'p_key' : son,\n",
    "    'p_name': 'Parent_name',\n",
    "    \n",
    "         }\n",
    "\n",
    "\n",
    "family = {\n",
    "    'f_key' : parent, \n",
    "}\n",
    "\n",
    "print(family)\n",
    "family"
   ]
  },
  {
   "cell_type": "code",
   "execution_count": 13,
   "id": "4e31163f",
   "metadata": {},
   "outputs": [
    {
     "data": {
      "text/plain": [
       "{'s_key': {'g_name': 'Grand_son_name'}, 's_name': 'Son_name'}"
      ]
     },
     "execution_count": 13,
     "metadata": {},
     "output_type": "execute_result"
    }
   ],
   "source": [
    "# access child directory\n",
    "family['f_key']['p_key']"
   ]
  },
  {
   "cell_type": "code",
   "execution_count": 15,
   "id": "32cfba1b",
   "metadata": {},
   "outputs": [
    {
     "name": "stdout",
     "output_type": "stream",
     "text": [
      "False\n",
      "Larger element is:  20\n"
     ]
    }
   ],
   "source": [
    "#conditional loop\n",
    "# a>b\n",
    "x = 10\n",
    "y = 20\n",
    "# find largest number\n",
    "\n",
    "print(x > y)\n",
    "\n",
    "if x > y:\n",
    "    print(\"Larger element is:\", x)\n",
    "else:\n",
    "    print(\"Larger element is: \",y)\n"
   ]
  },
  {
   "cell_type": "code",
   "execution_count": 16,
   "id": "e6ff939a",
   "metadata": {},
   "outputs": [
    {
     "name": "stdout",
     "output_type": "stream",
     "text": [
      "y is greater than x\n"
     ]
    }
   ],
   "source": [
    "# a>b, a==b, a<b\n",
    "\n",
    "x = 20\n",
    "y = 30\n",
    "\n",
    "if x > y:\n",
    "    print(\"x is larger\")\n",
    "elif x == y:\n",
    "    print(\"x and y are equal\")\n",
    "else:\n",
    "    print('y is greater than x')\n"
   ]
  },
  {
   "cell_type": "code",
   "execution_count": 17,
   "id": "fc493333",
   "metadata": {},
   "outputs": [
    {
     "name": "stdout",
     "output_type": "stream",
     "text": [
      "y is greater number\n"
     ]
    }
   ],
   "source": [
    "# shaort hand if a > b: print(\"a is greater than b\")\n",
    "\n",
    "x = 10\n",
    "y = 20\n",
    "\n",
    "if y > x: print(\"y is greater number\")"
   ]
  },
  {
   "cell_type": "code",
   "execution_count": 18,
   "id": "2889240d",
   "metadata": {},
   "outputs": [
    {
     "name": "stdout",
     "output_type": "stream",
     "text": [
      "x is greater\n"
     ]
    }
   ],
   "source": [
    "# short hand if else print(\"A\") if a > b else print(\"B\") \n",
    "\n",
    "x = 20\n",
    "y = 10\n",
    "\n",
    "print(\"x is greater\") if x > y else print(\"y is greater\")\n",
    "\n"
   ]
  },
  {
   "cell_type": "code",
   "execution_count": 19,
   "id": "119cc840",
   "metadata": {},
   "outputs": [
    {
     "name": "stdout",
     "output_type": "stream",
     "text": [
      "Number is equal to 150\n"
     ]
    }
   ],
   "source": [
    "# nested if .. else\n",
    "\n",
    "x = 150\n",
    "if x > 100:\n",
    "    if x > 150:\n",
    "        print(\"Number is greater than 100 and 150\")\n",
    "    elif x ==150:\n",
    "        print(\"Number is equal to 150\")\n",
    "    else:\n",
    "        print(\"number is greater than 100 and less than 150\")\n",
    "elif x == 100:\n",
    "    print(\"Number is equal to 100\")\n",
    "else:\n",
    "    print(\"Number is less than 100\")"
   ]
  },
  {
   "cell_type": "code",
   "execution_count": 20,
   "id": "bc0ac6c2",
   "metadata": {},
   "outputs": [],
   "source": [
    "# pass staement\n",
    "\n",
    "x = 10\n",
    "y = 20\n",
    "\n",
    "if y > x:\n",
    "    pass"
   ]
  },
  {
   "cell_type": "code",
   "execution_count": null,
   "id": "51428093",
   "metadata": {},
   "outputs": [],
   "source": []
  },
  {
   "cell_type": "code",
   "execution_count": 14,
   "id": "787c9c60",
   "metadata": {},
   "outputs": [
    {
     "name": "stdout",
     "output_type": "stream",
     "text": [
      "0\n",
      "1\n",
      "2\n",
      "3\n",
      "4\n",
      "5\n",
      "6\n",
      "7\n",
      "8\n",
      "9\n",
      "10\n",
      "11\n",
      "12\n",
      "13\n",
      "14\n",
      "15\n",
      "16\n",
      "17\n",
      "18\n",
      "19\n",
      "20\n",
      "21\n",
      "22\n",
      "23\n",
      "24\n",
      "25\n",
      "26\n",
      "27\n",
      "28\n",
      "29\n",
      "30\n",
      "31\n",
      "32\n",
      "33\n",
      "34\n",
      "35\n",
      "36\n",
      "37\n",
      "38\n",
      "39\n",
      "40\n",
      "41\n",
      "42\n",
      "43\n",
      "44\n",
      "45\n",
      "46\n",
      "47\n",
      "48\n",
      "49\n",
      "50\n",
      "51\n",
      "52\n",
      "53\n",
      "54\n",
      "55\n",
      "56\n",
      "57\n",
      "58\n",
      "59\n",
      "60\n",
      "61\n",
      "62\n",
      "63\n",
      "64\n",
      "65\n",
      "66\n",
      "67\n",
      "68\n",
      "69\n",
      "70\n",
      "71\n",
      "72\n",
      "73\n",
      "74\n",
      "75\n",
      "76\n",
      "77\n",
      "78\n",
      "79\n",
      "80\n",
      "81\n",
      "82\n",
      "83\n",
      "84\n",
      "85\n",
      "86\n",
      "87\n",
      "88\n",
      "89\n",
      "90\n",
      "91\n",
      "92\n",
      "93\n",
      "94\n",
      "95\n",
      "96\n",
      "97\n",
      "98\n",
      "99\n"
     ]
    }
   ],
   "source": [
    "#while loop\n",
    "x=0\n",
    "while x<100:\n",
    "    print(x)\n",
    "    x +=1"
   ]
  },
  {
   "cell_type": "code",
   "execution_count": 21,
   "id": "20b18faa",
   "metadata": {},
   "outputs": [
    {
     "name": "stdout",
     "output_type": "stream",
     "text": [
      "0\n",
      "1\n",
      "2\n",
      "3\n",
      "4\n",
      "5\n",
      "6\n",
      "7\n",
      "8\n",
      "9\n",
      "10\n",
      "11\n",
      "12\n",
      "13\n",
      "14\n",
      "15\n",
      "16\n",
      "17\n",
      "18\n",
      "19\n",
      "20\n",
      "21\n",
      "22\n",
      "23\n",
      "24\n",
      "25\n",
      "26\n",
      "27\n",
      "28\n",
      "29\n",
      "30\n",
      "31\n",
      "32\n",
      "33\n",
      "34\n",
      "35\n",
      "36\n",
      "37\n",
      "38\n",
      "39\n",
      "40\n",
      "41\n",
      "42\n",
      "43\n",
      "44\n",
      "45\n",
      "46\n",
      "47\n",
      "48\n",
      "49\n",
      "50\n"
     ]
    }
   ],
   "source": [
    "# break statement\n",
    "\n",
    "x = 0\n",
    "while x < 100:\n",
    "    print(x)\n",
    "    if x == 50:\n",
    "        break\n",
    "    x += 1"
   ]
  },
  {
   "cell_type": "code",
   "execution_count": 22,
   "id": "f4d165d6",
   "metadata": {},
   "outputs": [
    {
     "name": "stdout",
     "output_type": "stream",
     "text": [
      "0\n",
      "1\n",
      "2\n",
      "3\n",
      "4\n",
      "5\n",
      "6\n",
      "7\n",
      "8\n",
      "9\n",
      "10\n",
      "11\n",
      "12\n",
      "13\n",
      "14\n",
      "15\n",
      "16\n",
      "17\n",
      "18\n",
      "19\n",
      "20\n",
      "21\n",
      "22\n",
      "23\n",
      "24\n",
      "25\n",
      "26\n",
      "27\n",
      "28\n",
      "29\n",
      "30\n",
      "31\n",
      "32\n",
      "33\n",
      "34\n",
      "35\n",
      "36\n",
      "37\n",
      "38\n",
      "39\n",
      "40\n",
      "41\n",
      "42\n",
      "43\n",
      "44\n",
      "45\n",
      "46\n",
      "47\n",
      "48\n",
      "49\n",
      "51\n",
      "52\n",
      "53\n",
      "54\n",
      "55\n",
      "56\n",
      "57\n",
      "58\n",
      "59\n",
      "60\n",
      "61\n",
      "62\n",
      "63\n",
      "64\n",
      "65\n",
      "66\n",
      "67\n",
      "68\n",
      "69\n",
      "70\n",
      "71\n",
      "72\n",
      "73\n",
      "74\n",
      "75\n",
      "76\n",
      "77\n",
      "78\n",
      "79\n",
      "80\n",
      "81\n",
      "82\n",
      "83\n",
      "84\n",
      "85\n",
      "86\n",
      "87\n",
      "88\n",
      "89\n",
      "90\n",
      "91\n",
      "92\n",
      "93\n",
      "94\n",
      "95\n",
      "96\n",
      "97\n",
      "98\n"
     ]
    }
   ],
   "source": [
    "# Continue stmt\n",
    "\n",
    "\n",
    "x = 0\n",
    "while x < 100:\n",
    "    \n",
    "    if x == 50 or x == 99:\n",
    "        x += 1\n",
    "        \n",
    "        continue\n",
    "                \n",
    "    print(x)\n",
    "    x += 1\n",
    "   "
   ]
  },
  {
   "cell_type": "code",
   "execution_count": 23,
   "id": "e5c0e0df",
   "metadata": {},
   "outputs": [
    {
     "name": "stdout",
     "output_type": "stream",
     "text": [
      "0\n",
      "1\n",
      "2\n",
      "3\n",
      "4\n",
      "5\n",
      "6\n",
      "7\n",
      "8\n",
      "9\n",
      "10\n",
      "11\n",
      "12\n",
      "13\n",
      "14\n",
      "15\n",
      "16\n",
      "17\n",
      "18\n",
      "19\n",
      "20\n",
      "21\n",
      "22\n",
      "23\n",
      "24\n",
      "25\n",
      "26\n",
      "27\n",
      "28\n",
      "29\n",
      "30\n",
      "31\n",
      "32\n",
      "33\n",
      "34\n",
      "35\n",
      "36\n",
      "37\n",
      "38\n",
      "39\n",
      "40\n",
      "41\n",
      "42\n",
      "43\n",
      "44\n",
      "45\n",
      "46\n",
      "47\n",
      "48\n",
      "49\n",
      "51\n",
      "52\n",
      "53\n",
      "54\n",
      "55\n",
      "56\n",
      "57\n",
      "58\n",
      "59\n",
      "60\n",
      "61\n",
      "62\n",
      "63\n",
      "64\n",
      "65\n",
      "66\n",
      "67\n",
      "68\n",
      "69\n",
      "70\n",
      "71\n",
      "72\n",
      "73\n",
      "74\n",
      "75\n",
      "76\n",
      "77\n",
      "78\n",
      "79\n",
      "80\n",
      "81\n",
      "82\n",
      "83\n",
      "84\n",
      "85\n",
      "86\n",
      "87\n",
      "88\n",
      "89\n",
      "90\n",
      "91\n",
      "92\n",
      "93\n",
      "94\n",
      "95\n",
      "96\n",
      "97\n",
      "98\n",
      "99\n",
      "There is no more statement to execute\n"
     ]
    }
   ],
   "source": [
    "# else below while\n",
    "\n",
    "x = 0\n",
    "while x < 100:\n",
    "    \n",
    "    if x == 50:\n",
    "        x += 1\n",
    "        continue\n",
    "                \n",
    "    print(x)\n",
    "    x += 1\n",
    "else:\n",
    "    print(\"There is no more statement to execute\")"
   ]
  },
  {
   "cell_type": "code",
   "execution_count": 25,
   "id": "337a547d",
   "metadata": {},
   "outputs": [
    {
     "name": "stdout",
     "output_type": "stream",
     "text": [
      "['mango', 'cherry', 'papaya', 'bluberry', 'apple', 'banana']\n",
      "while on List:-\n",
      "mango\n",
      "cherry\n",
      "papaya\n",
      "bluberry\n",
      "apple\n",
      "banana\n"
     ]
    }
   ],
   "source": [
    " #while on list and tuple\n",
    "\n",
    "list1 = [\"mango\",\"cherry\",\"papaya\",\"bluberry\",\"apple\",\"banana\"]\n",
    "\n",
    "print(list1)\n",
    "\n",
    "print(\"while on List:-\")\n",
    "\n",
    "x = 0\n",
    "while x < len(list1):\n",
    "    print(list1[x])\n",
    "    x += 1"
   ]
  },
  {
   "cell_type": "code",
   "execution_count": 27,
   "id": "26c78384",
   "metadata": {},
   "outputs": [
    {
     "name": "stdout",
     "output_type": "stream",
     "text": [
      "['mango', 'cherry', 'papaya', 'bluberry', 'apple', 'banana']\n",
      "while on Tuple:-\n",
      "mango\n",
      "cherry\n",
      "papaya\n",
      "bluberry\n",
      "apple\n",
      "banana\n"
     ]
    }
   ],
   "source": [
    "tup = [\"mango\",\"cherry\",\"papaya\",\"bluberry\",\"apple\",\"banana\"]\n",
    "\n",
    "print(tup)\n",
    "\n",
    "print(\"while on Tuple:-\")\n",
    "\n",
    "x = 0\n",
    "while x < len(tup):\n",
    "    print(tup[x])\n",
    "    x += 1\n"
   ]
  },
  {
   "cell_type": "code",
   "execution_count": 28,
   "id": "7610fa56",
   "metadata": {},
   "outputs": [
    {
     "name": "stdout",
     "output_type": "stream",
     "text": [
      "['mango', 'cherry', 'papaya', 'bluberry', 'apple', 'banana']\n",
      "for on list:-\n",
      "mango\n",
      "cherry\n",
      "papaya\n",
      "bluberry\n",
      "apple\n",
      "banana\n"
     ]
    }
   ],
   "source": [
    "# for loop on list\n",
    "\n",
    "list1 = [\"mango\",\"cherry\",\"papaya\",\"bluberry\",\"apple\",\"banana\"]\n",
    "\n",
    "print(list1)\n",
    "\n",
    "print(\"for on list:-\")\n",
    "\n",
    "for x in list1:\n",
    "    print(x)\n",
    "    "
   ]
  },
  {
   "cell_type": "code",
   "execution_count": 30,
   "id": "ac268e98",
   "metadata": {},
   "outputs": [
    {
     "name": "stdout",
     "output_type": "stream",
     "text": [
      "Python is fantastic\n",
      "for on str1:-\n",
      "P\n",
      "y\n",
      "t\n",
      "h\n",
      "o\n",
      "n\n",
      " \n",
      "i\n",
      "s\n",
      " \n",
      "f\n",
      "a\n",
      "n\n",
      "t\n",
      "a\n",
      "s\n",
      "t\n",
      "i\n",
      "c\n"
     ]
    }
   ],
   "source": [
    "# String\n",
    "\n",
    "str1 = \"Python is fantastic\"\n",
    "\n",
    "print(str1)\n",
    "\n",
    "print(\"for on str1:-\")\n",
    "\n",
    "for x in str1:\n",
    "    print(x)\n",
    "  "
   ]
  },
  {
   "cell_type": "code",
   "execution_count": null,
   "id": "1d8bbb5c",
   "metadata": {},
   "outputs": [],
   "source": [
    "# Tuple\n",
    "\n",
    "tup = (\"mango\",\"cherry\",\"papaya\",\"bluberry\",\"apple\",\"banana\")\n",
    "\n",
    "print(tup)\n",
    "\n",
    "print(\"for on Tuple:-\")\n",
    "\n",
    "for x in tup:\n",
    "    print(x)"
   ]
  },
  {
   "cell_type": "code",
   "execution_count": 31,
   "id": "e5378f4e",
   "metadata": {},
   "outputs": [
    {
     "name": "stdout",
     "output_type": "stream",
     "text": [
      "{'name': 'Nitn', 'mobile': 9975923975, 'address': 'sangola', 'job': 'Data', 'salary': 550000.2, 1: 10000}\n",
      "for on dict printing keys:\n",
      "name\n",
      "mobile\n",
      "address\n",
      "job\n",
      "salary\n",
      "1\n",
      "for on dict printing keys:\n",
      "name\n",
      "mobile\n",
      "address\n",
      "job\n",
      "salary\n",
      "1\n",
      "for on dict printing values:\n",
      "Nitn\n",
      "9975923975\n",
      "sangola\n",
      "Data\n",
      "550000.2\n",
      "10000\n",
      "for on dict printing values:\n",
      "( name , Nitn )\n",
      "( mobile , 9975923975 )\n",
      "( address , sangola )\n",
      "( job , Data )\n",
      "( salary , 550000.2 )\n",
      "( 1 , 10000 )\n"
     ]
    }
   ],
   "source": [
    "# Dict\n",
    "\n",
    "dict1 = {\n",
    "    'name' : 'Nitn',\n",
    "    'mobile' : 9975923975,\n",
    "    'address' : 'sangola',\n",
    "    'job' : 'Data',\n",
    "    'salary' : 550000.20,\n",
    "    1 : 10000\n",
    "    \n",
    "}\n",
    "\n",
    "print(dict1)\n",
    "\n",
    "print(\"for on dict printing keys:\")\n",
    "for x in dict1:\n",
    "    print(x)\n",
    "    \n",
    "print(\"for on dict printing keys:\")\n",
    "for x in dict1.keys():\n",
    "    print(x)\n",
    "    \n",
    "print(\"for on dict printing values:\")\n",
    "for x in dict1.values():\n",
    "    print(x)\n",
    "\n",
    "print(\"for on dict printing values:\")\n",
    "for x,y in dict1.items():\n",
    "    print(\"(\",x,\",\",y,\")\")"
   ]
  },
  {
   "cell_type": "code",
   "execution_count": 32,
   "id": "c805f1c3",
   "metadata": {},
   "outputs": [
    {
     "name": "stdout",
     "output_type": "stream",
     "text": [
      "{'apple', 'mango', 'cherry', 'banana', 'bluberry', 'papaya'}\n",
      "for on set:-\n",
      "apple\n",
      "mango\n",
      "cherry\n",
      "banana\n",
      "bluberry\n",
      "papaya\n"
     ]
    }
   ],
   "source": [
    "# set\n",
    "\n",
    "set1 = {\"mango\",\"cherry\",\"papaya\",\"bluberry\",\"apple\",\"banana\"}\n",
    "\n",
    "print(set1)\n",
    "\n",
    "print(\"for on set:-\")\n",
    "\n",
    "for x in set1:\n",
    "    print(x)\n"
   ]
  },
  {
   "cell_type": "code",
   "execution_count": 34,
   "id": "2e81158f",
   "metadata": {},
   "outputs": [
    {
     "name": "stdout",
     "output_type": "stream",
     "text": [
      "0\n",
      "1\n",
      "2\n",
      "3\n",
      "4\n",
      "5\n",
      "6\n",
      "7\n",
      "8\n",
      "9\n"
     ]
    }
   ],
   "source": [
    "#for i in range(10):\n",
    "\n",
    "for i in range(10):\n",
    "    print(i)\n"
   ]
  },
  {
   "cell_type": "code",
   "execution_count": 35,
   "id": "bca34e9f",
   "metadata": {},
   "outputs": [
    {
     "name": "stdout",
     "output_type": "stream",
     "text": [
      "20\n",
      "21\n",
      "22\n",
      "23\n",
      "24\n",
      "25\n",
      "26\n",
      "27\n",
      "28\n",
      "29\n"
     ]
    }
   ],
   "source": [
    "# range(1,10)- starting from 1, to 9, exclude 10\n",
    "\n",
    "for i in range(20,30):\n",
    "    print(i)"
   ]
  },
  {
   "cell_type": "code",
   "execution_count": null,
   "id": "a5d2cf6b",
   "metadata": {},
   "outputs": [],
   "source": [
    "# range(10,100,5)\n",
    "\n",
    "for i in range(100,200,10):\n",
    "    print(i)\n"
   ]
  },
  {
   "cell_type": "code",
   "execution_count": 36,
   "id": "04b15a7a",
   "metadata": {},
   "outputs": [
    {
     "name": "stdout",
     "output_type": "stream",
     "text": [
      "100\n",
      "110\n",
      "120\n",
      "130\n",
      "140\n",
      "150\n",
      "160\n",
      "170\n",
      "180\n",
      "190\n",
      "There is nothing to print in for now\n"
     ]
    }
   ],
   "source": [
    "# else in for\n",
    "\n",
    "for i in range(100,200,10):\n",
    "    print(i)\n",
    "else:\n",
    "    print(\"There is nothing to print in for now\")\n"
   ]
  },
  {
   "cell_type": "code",
   "execution_count": null,
   "id": "9a197c32",
   "metadata": {},
   "outputs": [],
   "source": []
  },
  {
   "cell_type": "code",
   "execution_count": null,
   "id": "f9176be1",
   "metadata": {},
   "outputs": [],
   "source": []
  },
  {
   "cell_type": "code",
   "execution_count": null,
   "id": "0984332d",
   "metadata": {},
   "outputs": [],
   "source": []
  },
  {
   "cell_type": "code",
   "execution_count": null,
   "id": "af105986",
   "metadata": {},
   "outputs": [],
   "source": []
  },
  {
   "cell_type": "code",
   "execution_count": null,
   "id": "ffcd6a9f",
   "metadata": {},
   "outputs": [],
   "source": []
  },
  {
   "cell_type": "code",
   "execution_count": null,
   "id": "afca6679",
   "metadata": {},
   "outputs": [],
   "source": []
  },
  {
   "cell_type": "code",
   "execution_count": null,
   "id": "3347863c",
   "metadata": {},
   "outputs": [],
   "source": []
  },
  {
   "cell_type": "code",
   "execution_count": null,
   "id": "d837a916",
   "metadata": {},
   "outputs": [],
   "source": []
  },
  {
   "cell_type": "code",
   "execution_count": null,
   "id": "4e5f65b7",
   "metadata": {},
   "outputs": [],
   "source": []
  },
  {
   "cell_type": "code",
   "execution_count": null,
   "id": "71d0911a",
   "metadata": {},
   "outputs": [],
   "source": []
  },
  {
   "cell_type": "code",
   "execution_count": null,
   "id": "e7df2dde",
   "metadata": {},
   "outputs": [],
   "source": []
  },
  {
   "cell_type": "code",
   "execution_count": null,
   "id": "0e6c4fcd",
   "metadata": {},
   "outputs": [],
   "source": []
  },
  {
   "cell_type": "code",
   "execution_count": null,
   "id": "e582abaa",
   "metadata": {},
   "outputs": [],
   "source": []
  },
  {
   "cell_type": "code",
   "execution_count": null,
   "id": "ddf2f877",
   "metadata": {},
   "outputs": [],
   "source": []
  },
  {
   "cell_type": "code",
   "execution_count": null,
   "id": "299478ad",
   "metadata": {},
   "outputs": [],
   "source": []
  },
  {
   "cell_type": "code",
   "execution_count": 1,
   "id": "23923db4",
   "metadata": {},
   "outputs": [
    {
     "data": {
      "text/plain": [
       "'Linux'"
      ]
     },
     "execution_count": 1,
     "metadata": {},
     "output_type": "execute_result"
    }
   ],
   "source": [
    "import platform\n",
    "platform.system()"
   ]
  },
  {
   "cell_type": "code",
   "execution_count": 2,
   "id": "5d76b2e4",
   "metadata": {},
   "outputs": [
    {
     "name": "stdout",
     "output_type": "stream",
     "text": [
      "2021-11-17 17:31:00.262353\n",
      "2021\n",
      "11\n",
      "17\n",
      "Wednesday\n",
      "Wed\n",
      "November\n",
      "Nov\n",
      "17\n",
      "3\n",
      "11\n"
     ]
    }
   ],
   "source": [
    "import datetime\n",
    "x=datetime.datetime.now()\n",
    "print(x)\n",
    "print(x.year)\n",
    "print(x.month)\n",
    "print(x.day)\n",
    "print(x.strftime('%A'))\n",
    "print(x.strftime('%a'))\n",
    "print(x.strftime('%B'))\n",
    "print(x.strftime('%b'))\n",
    "print(x.strftime('%d')) #day of month\n",
    "print(x.strftime('%w')) #\n",
    "print(x.strftime('%m')) #"
   ]
  },
  {
   "cell_type": "code",
   "execution_count": null,
   "id": "a9f5b737",
   "metadata": {},
   "outputs": [],
   "source": []
  }
 ],
 "metadata": {
  "kernelspec": {
   "display_name": "Python 3 (ipykernel)",
   "language": "python",
   "name": "python3"
  },
  "language_info": {
   "codemirror_mode": {
    "name": "ipython",
    "version": 3
   },
   "file_extension": ".py",
   "mimetype": "text/x-python",
   "name": "python",
   "nbconvert_exporter": "python",
   "pygments_lexer": "ipython3",
   "version": "3.8.10"
  }
 },
 "nbformat": 4,
 "nbformat_minor": 5
}
