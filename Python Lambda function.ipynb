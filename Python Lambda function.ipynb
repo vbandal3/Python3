{
 "cells": [
  {
   "cell_type": "markdown",
   "id": "b4fad9cb",
   "metadata": {},
   "source": [
    "Python Lambda\n",
    "lambda fuction\n",
    "\n",
    "A lambda function is a small anonymous function.\n",
    "\n",
    "A lambda function can take any number of arguments, but can only have one expression.\n",
    "\n",
    "syntax \n",
    "lamda arguments : expression "
   ]
  },
  {
   "cell_type": "code",
   "execution_count": 3,
   "id": "563ecbc2",
   "metadata": {},
   "outputs": [
    {
     "name": "stdout",
     "output_type": "stream",
     "text": [
      "55\n"
     ]
    }
   ],
   "source": [
    "x= lambda a:a+5\n",
    "print(x(50))"
   ]
  },
  {
   "cell_type": "markdown",
   "id": "412cb39f",
   "metadata": {},
   "source": [
    "Lambda functions can take any number of arguments:"
   ]
  },
  {
   "cell_type": "code",
   "execution_count": 4,
   "id": "2465c14c",
   "metadata": {},
   "outputs": [
    {
     "name": "stdout",
     "output_type": "stream",
     "text": [
      "30\n"
     ]
    }
   ],
   "source": [
    "x= lambda a,b:a*b\n",
    "print(x(5,6))"
   ]
  },
  {
   "cell_type": "code",
   "execution_count": 6,
   "id": "2c13eff6",
   "metadata": {},
   "outputs": [
    {
     "name": "stdout",
     "output_type": "stream",
     "text": [
      "60\n"
     ]
    }
   ],
   "source": [
    "x= lambda p,q,r: p*q*r\n",
    "print(x(5,4,3))"
   ]
  },
  {
   "cell_type": "markdown",
   "id": "80bf5c10",
   "metadata": {},
   "source": [
    "Why Use Lambda Functions?\n",
    "The power of lambda is better shown when you use them as an anonymous function inside another function.\n",
    "\n",
    "Say you have a function definition that takes one argument, and that argument will be multiplied with an unknown number:"
   ]
  },
  {
   "cell_type": "code",
   "execution_count": 7,
   "id": "25cf0a61",
   "metadata": {},
   "outputs": [
    {
     "name": "stdout",
     "output_type": "stream",
     "text": [
      "22\n"
     ]
    }
   ],
   "source": [
    "def fun(n):\n",
    "    return lambda a:a*n\n",
    "doubler=fun(2)\n",
    "print(doubler(11))\n"
   ]
  },
  {
   "cell_type": "code",
   "execution_count": 8,
   "id": "e9756394",
   "metadata": {},
   "outputs": [
    {
     "name": "stdout",
     "output_type": "stream",
     "text": [
      "33\n"
     ]
    }
   ],
   "source": [
    "def myfun(n):\n",
    "    return lambda b:b*n\n",
    "tripler=myfun(3)\n",
    "print(tripler(11))"
   ]
  },
  {
   "cell_type": "code",
   "execution_count": 9,
   "id": "ae0d6781",
   "metadata": {},
   "outputs": [
    {
     "name": "stdout",
     "output_type": "stream",
     "text": [
      "13\n",
      "14\n"
     ]
    }
   ],
   "source": [
    "def myfunc(n):\n",
    "  return lambda a : a + n\n",
    "\n",
    "add2 = myfunc(2)\n",
    "add3 = myfunc(3)\n",
    "\n",
    "print(add2(11))\n",
    "print(add3(11))"
   ]
  },
  {
   "cell_type": "code",
   "execution_count": 10,
   "id": "5ad53ec9",
   "metadata": {},
   "outputs": [
    {
     "name": "stdout",
     "output_type": "stream",
     "text": [
      "8\n",
      "7\n"
     ]
    }
   ],
   "source": [
    "def myfunc(n):\n",
    "    return lambda a:a-n\n",
    "sub2=myfunc(2)\n",
    "sub3=myfunc(3)\n",
    "\n",
    "print(sub2(10))\n",
    "print(sub3(10))"
   ]
  },
  {
   "cell_type": "code",
   "execution_count": 13,
   "id": "ca841dd2",
   "metadata": {},
   "outputs": [
    {
     "name": "stdout",
     "output_type": "stream",
     "text": [
      "Square of 4 = 16\n",
      "Square of 10 = 100\n"
     ]
    }
   ],
   "source": [
    "square=lambda c:c**2\n",
    "print(\"Square of 4 =\",square(4))\n",
    "print(\"Square of 10 =\",square(10))"
   ]
  },
  {
   "cell_type": "code",
   "execution_count": null,
   "id": "839169c8",
   "metadata": {},
   "outputs": [],
   "source": []
  }
 ],
 "metadata": {
  "kernelspec": {
   "display_name": "Python 3 (ipykernel)",
   "language": "python",
   "name": "python3"
  },
  "language_info": {
   "codemirror_mode": {
    "name": "ipython",
    "version": 3
   },
   "file_extension": ".py",
   "mimetype": "text/x-python",
   "name": "python",
   "nbconvert_exporter": "python",
   "pygments_lexer": "ipython3",
   "version": "3.9.7"
  }
 },
 "nbformat": 4,
 "nbformat_minor": 5
}
