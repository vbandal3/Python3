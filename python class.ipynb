{
 "cells": [
  {
   "cell_type": "code",
   "execution_count": 7,
   "id": "929e0539",
   "metadata": {},
   "outputs": [
    {
     "name": "stdout",
     "output_type": "stream",
     "text": [
      "10\n"
     ]
    }
   ],
   "source": [
    "# class is object constructor\n",
    "#To create a class, use the keyword class\n",
    "\n",
    "\n",
    "class myclass():\n",
    "    x=10\n",
    "p1= myclass()\n",
    "print(p1.x)"
   ]
  },
  {
   "cell_type": "code",
   "execution_count": 11,
   "id": "d2686342",
   "metadata": {},
   "outputs": [
    {
     "name": "stdout",
     "output_type": "stream",
     "text": [
      "Vaibhav\n",
      "Bandal\n",
      "Job\n",
      "Pune\n"
     ]
    }
   ],
   "source": [
    "# __init__() function\n",
    "# to use class in real life we have to use __init__() function\n",
    "#Use the __init__() function to assign values to object properties, or other operations that are necessary to do when the object \n",
    "#is being created\n",
    "\n",
    "\n",
    "class person:\n",
    "    def __init__(self,fname,lname,occupation, city):\n",
    "        self.fname=fname\n",
    "        self.lname= lname\n",
    "        self.occupation=occupation\n",
    "        self.city=city\n",
    "        \n",
    "p1 = person(\"Vaibhav\",\"Bandal\",\"Job\",\"Pune\")\n",
    "print(p1.fname)\n",
    "print(p1.lname)\n",
    "print(p1.occupation)\n",
    "print(p1.city)"
   ]
  },
  {
   "cell_type": "code",
   "execution_count": 8,
   "id": "e0619f74",
   "metadata": {},
   "outputs": [
    {
     "name": "stdout",
     "output_type": "stream",
     "text": [
      "Aditya\n",
      "Bandal\n",
      "101\n"
     ]
    }
   ],
   "source": [
    "#class with function\n",
    "\n",
    "class student:\n",
    "    def __init__(self,name,surname,roll_no):\n",
    "        self.name=name\n",
    "        self.surname=surname\n",
    "        self.roll_no=roll_no\n",
    "        \n",
    "        def display(self):\n",
    "            print(\"My name is\",+name)\n",
    "            print(\"My roll number is\",+ roll_no)\n",
    "            \n",
    "stud= student(\"Aditya\",\"Bandal\",101)\n",
    "print(stud.name)\n",
    "print(stud.surname)\n",
    "print(stud.roll_no)\n",
    "#stud.display()"
   ]
  },
  {
   "cell_type": "code",
   "execution_count": 1,
   "id": "95c74741",
   "metadata": {},
   "outputs": [
    {
     "name": "stdout",
     "output_type": "stream",
     "text": [
      "Rahul   BE-Comp   13\n",
      "Vaibhav   BE-Mech   2\n",
      "Nitin   BE-Comp   14\n"
     ]
    }
   ],
   "source": [
    "class Student:\n",
    "  def __init__(self, name, clas, rollno):\n",
    "    self.name = name\n",
    "    self.clas = clas\n",
    "    self.rollno = rollno\n",
    "\n",
    "r = Student(\"Rahul\", \"BE-Comp\", 13) # object creation\n",
    "v = Student(\"Vaibhav\", \"BE-Mech\", 2)\n",
    "n = Student(\"Nitin\", \"BE-Comp\", 14)\n",
    "\n",
    "print(r.name,\" \",r.clas,\" \", r.rollno)\n",
    "print(v.name,\" \",v.clas,\" \", v.rollno)\n",
    "print(n.name,\" \", n.clas, \" \",n.rollno)\n"
   ]
  },
  {
   "cell_type": "code",
   "execution_count": 2,
   "id": "50396de6",
   "metadata": {},
   "outputs": [
    {
     "name": "stdout",
     "output_type": "stream",
     "text": [
      "Name of student is:  Rahul\n",
      "Clas of student is:  BE\n",
      "Roll No of the students:  13\n",
      "Vaibhav Details:\n",
      "Name of student is:  Vaibhav\n",
      "Clas of student is:  BE-Mech\n",
      "Roll No of the students:  2\n"
     ]
    }
   ],
   "source": [
    "#display function\n",
    "\n",
    "class Student:\n",
    "    def __init__(self, name, clas, rollno):\n",
    "        self.name = name\n",
    "        self.clas = clas\n",
    "        self.rollno = rollno\n",
    "    \n",
    "    def Display(self):\n",
    "        print(\"Name of student is: \",self.name)\n",
    "        print(\"Clas of student is: \",self.clas)\n",
    "        print(\"Roll No of the students: \",self.rollno)\n",
    "\n",
    "  \n",
    "\n",
    "r = Student(\"Rahul\", \"BE\", 13)\n",
    "v = Student(\"Vaibhav\",\"BE-Mech\", 2)\n",
    "\n",
    "r.Display()\n",
    "print(\"Vaibhav Details:\")\n",
    "v.Display()"
   ]
  },
  {
   "cell_type": "code",
   "execution_count": 7,
   "id": "0227172b",
   "metadata": {},
   "outputs": [
    {
     "name": "stdout",
     "output_type": "stream",
     "text": [
      "Name of student is:  Rahul\n",
      "Clas of student is:  BE\n",
      "Roll No of the students:  13\n",
      "\n",
      "\n",
      "Calling Display from ChangeName():\n",
      " \n",
      "Name of student is:  Nitin\n",
      "Clas of student is:  BE\n",
      "Roll No of the students:  13\n"
     ]
    }
   ],
   "source": [
    "# accessing values and modifying it\n",
    "\n",
    "\n",
    "\n",
    "class Student:\n",
    "    def __init__(self, name, clas, rollno):\n",
    "        self.name = name\n",
    "        self.clas = clas\n",
    "        self.rollno = rollno\n",
    "    \n",
    "    def Display(self):\n",
    "        print(\"Name of student is: \",self.name)\n",
    "        print(\"Clas of student is: \",self.clas)\n",
    "        print(\"Roll No of the students: \",self.rollno)\n",
    "      \n",
    "    \n",
    "    def ChangeName(self,ch_name):\n",
    "        self.name = ch_name\n",
    "        print(\"\\n\")\n",
    "        print(\"Calling Display from ChangeName():\\n \")\n",
    "        self.Display()\n",
    "\n",
    "  \n",
    "\n",
    "r = Student(\"Rahul\", \"BE\", 13)\n",
    "\n",
    "r.Display()\n",
    "\n",
    "nm = \"Nitin\"\n",
    "\n",
    "r.ChangeName(nm)"
   ]
  },
  {
   "cell_type": "markdown",
   "id": "e5e0fa82",
   "metadata": {},
   "source": [
    "# Inheritance"
   ]
  },
  {
   "cell_type": "code",
   "execution_count": 9,
   "id": "02617e40",
   "metadata": {},
   "outputs": [
    {
     "name": "stdout",
     "output_type": "stream",
     "text": [
      "Rahul\n",
      "Mohite\n"
     ]
    }
   ],
   "source": [
    "# Base class\n",
    "class Person:\n",
    "    def __init__(self, fname, lname):\n",
    "        self.fname = fname\n",
    "        self.lname = lname\n",
    "    \n",
    "    def Display(self):\n",
    "        print(\"First Name : \",self.fname)\n",
    "        print(\"Last Name : \",self.lname)\n",
    "    \n",
    "r = Person(\"Rahul\",\"Mohite\")\n",
    "\n",
    "print(r.fname) \n",
    "print(r.lname)"
   ]
  },
  {
   "cell_type": "code",
   "execution_count": 10,
   "id": "45fab19b",
   "metadata": {},
   "outputs": [
    {
     "name": "stdout",
     "output_type": "stream",
     "text": [
      "First Name :  Nitin\n",
      "Last Name :  Khot\n"
     ]
    }
   ],
   "source": [
    "#child class\n",
    "\n",
    "class Student(Person):\n",
    "    pass\n",
    "\n",
    "s = Student(\"Nitin\",\"Khot\")\n",
    "\n",
    "s.Display()"
   ]
  },
  {
   "cell_type": "code",
   "execution_count": null,
   "id": "3f2f44a6",
   "metadata": {},
   "outputs": [],
   "source": []
  },
  {
   "cell_type": "code",
   "execution_count": null,
   "id": "bac6b283",
   "metadata": {},
   "outputs": [],
   "source": []
  },
  {
   "cell_type": "code",
   "execution_count": null,
   "id": "3689da69",
   "metadata": {},
   "outputs": [],
   "source": []
  }
 ],
 "metadata": {
  "kernelspec": {
   "display_name": "Python 3 (ipykernel)",
   "language": "python",
   "name": "python3"
  },
  "language_info": {
   "codemirror_mode": {
    "name": "ipython",
    "version": 3
   },
   "file_extension": ".py",
   "mimetype": "text/x-python",
   "name": "python",
   "nbconvert_exporter": "python",
   "pygments_lexer": "ipython3",
   "version": "3.9.7"
  }
 },
 "nbformat": 4,
 "nbformat_minor": 5
}
